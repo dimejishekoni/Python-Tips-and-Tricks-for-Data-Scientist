{
 "cells": [
  {
   "cell_type": "markdown",
   "metadata": {},
   "source": [
    "### CUTE CHARTS"
   ]
  },
  {
   "cell_type": "code",
   "execution_count": 7,
   "metadata": {},
   "outputs": [],
   "source": [
    "from cutecharts.charts import Bar\n",
    "\n",
    "def create_bar_chart() -> Bar:\n",
    "    chart = Bar(\"Popular Christmas Gifts\")\n",
    "    chart.set_options(\n",
    "        labels=[\"Toys 🧸\", \"Books 📚\", \"Clothing 👗👕\", \"Electronics 💻📱\", \"Decorations 🎄✨\"],\n",
    "        x_label=\"Gift Type\",\n",
    "        y_label=\"Popularity\",\n",
    "    )\n",
    "    chart.add_series(\"Popularity\", [40, 25, 35, 50, 30])\n",
    "    chart.render(\"christmas_bar_chart.html\")\n",
    "\n",
    "create_bar_chart()"
   ]
  },
  {
   "cell_type": "code",
   "execution_count": 8,
   "metadata": {},
   "outputs": [],
   "source": [
    "from cutecharts.charts import Line\n",
    "\n",
    "def create_line_chart() -> Line:\n",
    "    chart = Line(\"🎄Christmas Tree Sales Over Time\")\n",
    "    chart.set_options(\n",
    "        labels=[\"2018\", \"2019\", \"2020\", \"2021\", \"2022\"],\n",
    "        x_label=\"Year\",\n",
    "        y_label=\"Trees Sold (in millions)\",\n",
    "    )\n",
    "    chart.add_series(\"Tree Sales\", [30, 35, 40, 38, 45])\n",
    "    chart.render(\"christmas_line_chart.html\")\n",
    "\n",
    "create_line_chart()"
   ]
  },
  {
   "cell_type": "code",
   "execution_count": 9,
   "metadata": {},
   "outputs": [],
   "source": [
    "from cutecharts.charts import Radar\n",
    "\n",
    "def create_radar_chart() -> Radar:\n",
    "    chart = Radar(\"Holiday Spending Categories\")\n",
    "    chart.set_options(labels=[\"Gifts\", \"Decorations\", \"Food\", \"Travel\", \"Charity\"])\n",
    "    chart.add_series(\"Spending ($ in billions)\", [100, 50, 70, 40, 20])\n",
    "    chart.add_series(\"Percentage of Budget (%)\", [40, 20, 28, 8, 4])\n",
    "    chart.render(\"christmas_radar_chart.html\")\n",
    "\n",
    "create_radar_chart()"
   ]
  },
  {
   "cell_type": "code",
   "execution_count": 12,
   "metadata": {},
   "outputs": [],
   "source": [
    "from cutecharts.charts import Pie\n",
    "\n",
    "def create_pie_chart() -> Pie:\n",
    "    chart = Pie(\"Christmas Cookie Preferences\")\n",
    "    chart.set_options(labels=[\"Gingerbread 🍪\", \"Sugar Cookies 🍭\", \"Chocolate Chip 🍫\", \"Shortbread 🧈\"])\n",
    "    chart.add_series([30, 40, 20, 10])\n",
    "    chart.render(\"christmas_pie_chart.html\")\n",
    "\n",
    "create_pie_chart()"
   ]
  },
  {
   "cell_type": "code",
   "execution_count": 11,
   "metadata": {},
   "outputs": [],
   "source": [
    "from cutecharts.charts import Scatter\n",
    "\n",
    "def create_scatter_chart() -> Scatter:\n",
    "    chart = Scatter(\"Gift Price vs. Popularity\")\n",
    "    chart.set_options(x_label=\"Price ($)\", y_label=\"Popularity (out of 100)\")\n",
    "    chart.add_series(\"Gifts - Popularity\", [(10, 80), (25, 60), (50, 40), (75, 20), (100, 10)])\n",
    "    chart.add_series(\"Gifts - Satisfaction\", [(10, 85), (25, 70), (50, 50), (75, 25), (100, 15)])\n",
    "    chart.render(\"christmas_scatter_chart.html\")\n",
    "\n",
    "create_scatter_chart()"
   ]
  }
 ],
 "metadata": {
  "kernelspec": {
   "display_name": "env",
   "language": "python",
   "name": "python3"
  },
  "language_info": {
   "codemirror_mode": {
    "name": "ipython",
    "version": 3
   },
   "file_extension": ".py",
   "mimetype": "text/x-python",
   "name": "python",
   "nbconvert_exporter": "python",
   "pygments_lexer": "ipython3",
   "version": "3.12.1"
  }
 },
 "nbformat": 4,
 "nbformat_minor": 2
}
