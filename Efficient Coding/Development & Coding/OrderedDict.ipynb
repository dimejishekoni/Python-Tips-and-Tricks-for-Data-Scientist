{
 "cells": [
  {
   "cell_type": "code",
   "execution_count": 6,
   "metadata": {},
   "outputs": [],
   "source": [
    "# Using a regular dictionary\n",
    "dict_ticket = dict()\n",
    "dict_ticket['Customer_1'] = 'I have a problem with my order'\n",
    "dict_ticket['Customer_2'] = 'I have a problem with my delivery'\n",
    "dict_ticket['Customer_3'] = 'I have a problem with my refund'"
   ]
  },
  {
   "cell_type": "code",
   "execution_count": 7,
   "metadata": {},
   "outputs": [
    {
     "data": {
      "text/plain": [
       "{'Customer_1': 'I have a problem with my order',\n",
       " 'Customer_2': 'I have a problem with my delivery',\n",
       " 'Customer_3': 'I have a problem with my refund'}"
      ]
     },
     "execution_count": 7,
     "metadata": {},
     "output_type": "execute_result"
    }
   ],
   "source": [
    "dict_ticket"
   ]
  },
  {
   "cell_type": "code",
   "execution_count": null,
   "metadata": {},
   "outputs": [],
   "source": [
    "from collections import OrderedDict\n",
    "# Creating an OrderedDict for customer support tickets\n",
    "ticket = OrderedDict()\n",
    "ticket['Customer_1'] = 'I have a problem with my order'\n",
    "ticket['Customer_2'] = 'I have a problem with my delivery'\n",
    "ticket['Customer_3'] = 'I have a problem with my refund'\n",
    "\n",
    "# Move 'Customer_1' to the end of the dictionary\n",
    "ticket.move_to_end('Customer_1')"
   ]
  },
  {
   "cell_type": "code",
   "execution_count": 2,
   "metadata": {},
   "outputs": [
    {
     "name": "stdout",
     "output_type": "stream",
     "text": [
      "OrderedDict({'Customer_4': 'I have a problem with my payment', 'Customer_3': 'I have a problem with my refund', 'Customer_1': 'I have a problem with my order'})\n"
     ]
    }
   ],
   "source": [
    "print(ticket)"
   ]
  },
  {
   "cell_type": "code",
   "execution_count": 3,
   "metadata": {},
   "outputs": [
    {
     "name": "stdout",
     "output_type": "stream",
     "text": [
      "('Customer_4', 'I have a problem with my payment')\n"
     ]
    }
   ],
   "source": [
    "last_item = ticket.popitem(last=False)\n",
    "print(last_item)"
   ]
  },
  {
   "cell_type": "code",
   "execution_count": 4,
   "metadata": {},
   "outputs": [
    {
     "name": "stdout",
     "output_type": "stream",
     "text": [
      "OrderedDict({'Customer_3': 'I have a problem with my refund', 'Customer_1': 'I have a problem with my order', 'Customer_4': 'I have a problem with my payment'})\n"
     ]
    }
   ],
   "source": [
    "# Add a new customer ticket and move it to the front\n",
    "ticket.update({'Customer_4': 'I have a problem with my payment'})\n",
    "print(ticket)\n"
   ]
  },
  {
   "cell_type": "code",
   "execution_count": 5,
   "metadata": {},
   "outputs": [
    {
     "name": "stdout",
     "output_type": "stream",
     "text": [
      "OrderedDict({'Customer_4': 'I have a problem with my payment', 'Customer_3': 'I have a problem with my refund', 'Customer_1': 'I have a problem with my order'})\n"
     ]
    }
   ],
   "source": [
    "# Move 'Customer_4' to the beginning\n",
    "ticket.move_to_end('Customer_4', last=False)\n",
    "print(ticket)"
   ]
  },
  {
   "cell_type": "code",
   "execution_count": null,
   "metadata": {},
   "outputs": [],
   "source": []
  }
 ],
 "metadata": {
  "kernelspec": {
   "display_name": "env",
   "language": "python",
   "name": "python3"
  },
  "language_info": {
   "codemirror_mode": {
    "name": "ipython",
    "version": 3
   },
   "file_extension": ".py",
   "mimetype": "text/x-python",
   "name": "python",
   "nbconvert_exporter": "python",
   "pygments_lexer": "ipython3",
   "version": "3.12.7"
  }
 },
 "nbformat": 4,
 "nbformat_minor": 2
}
